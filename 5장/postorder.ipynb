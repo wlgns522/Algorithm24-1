{
 "cells": [
  {
   "cell_type": "markdown",
   "metadata": {},
   "source": [
    "# 표준 순회 알고리즘"
   ]
  },
  {
   "cell_type": "markdown",
   "metadata": {},
   "source": [
    "### 1. 문제 정의"
   ]
  },
  {
   "cell_type": "markdown",
   "metadata": {},
   "source": [
    " - 문제 이름 : 이진트리의 후위 순회\n",
    " - 문제 설명 : 이진트리의 루트노드를 마지막에 처리한다.\n",
    " - 문제 예시 : 이진트리의 "
   ]
  },
  {
   "cell_type": "markdown",
   "metadata": {},
   "source": [
    "### 2. 알고리즘 설명"
   ]
  },
  {
   "cell_type": "markdown",
   "metadata": {},
   "source": [
    "서브 트리에 들어있는 모든 노드를 LRV 순서대로 순회하게 한다."
   ]
  },
  {
   "cell_type": "markdown",
   "metadata": {},
   "source": [
    "### 3. 코드 개요"
   ]
  },
  {
   "cell_type": "markdown",
   "metadata": {},
   "source": [
    " - 입력변수 : 루트 노드를 나타내는 n\n",
    " - 출력 : 이진트리를 후위 순회로 나타낸 것\n",
    " - 함수 : postorder(이진트리를 후위 순회 하게 하는 함수)"
   ]
  },
  {
   "cell_type": "markdown",
   "metadata": {},
   "source": [
    "### 4. 알고리즘 코드"
   ]
  },
  {
   "cell_type": "code",
   "execution_count": 9,
   "metadata": {},
   "outputs": [],
   "source": [
    "class TNode:\n",
    "    def __init__(self, data, left=None, right=None):\n",
    "        self.data = data\n",
    "        self.left = left\n",
    "        self.right = right\n",
    "\n",
    "def postorder(n):\n",
    "    if n is not None :\n",
    "        postorder(n.left)\n",
    "        postorder(n.right)\n",
    "        print(n.data, end= ' ')\n",
    "a= TNode('A', None, None)\n",
    "b= TNode('B', None, None)\n",
    "f= TNode('/', a,b)\n",
    "c= TNode('C', None, None)\n",
    "g= TNode('*', f,c)\n",
    "h= TNode('*', g,d)\n",
    "d= TNode('D', None, None)\n",
    "e= TNode('E', None, None)\n",
    "root =  TNode('+', h, e)"
   ]
  },
  {
   "cell_type": "markdown",
   "metadata": {},
   "source": [
    "### 5. 테스트 코드"
   ]
  },
  {
   "cell_type": "code",
   "execution_count": null,
   "metadata": {},
   "outputs": [],
   "source": [
    "print('  Pre-Order : ', end='')\n",
    "postorder(root)\n",
    "print()"
   ]
  },
  {
   "cell_type": "markdown",
   "metadata": {},
   "source": [
    "### 6. 수행 결과"
   ]
  },
  {
   "cell_type": "code",
   "execution_count": 7,
   "metadata": {},
   "outputs": [
    {
     "name": "stdout",
     "output_type": "stream",
     "text": [
      "  Pre-Order : A B / C * D * E + \n"
     ]
    }
   ],
   "source": [
    "class TNode:\n",
    "    def __init__(self, data, left=None, right=None):\n",
    "        self.data = data\n",
    "        self.left = left\n",
    "        self.right = right\n",
    "\n",
    "def postorder(n):\n",
    "    if n is not None :\n",
    "        postorder(n.left)\n",
    "        postorder(n.right)\n",
    "        print(n.data, end= ' ')\n",
    "a= TNode('A', None, None)\n",
    "b= TNode('B', None, None)\n",
    "f= TNode('/', a,b)\n",
    "c= TNode('C', None, None)\n",
    "g= TNode('*', f,c)\n",
    "h= TNode('*', g,d)\n",
    "d= TNode('D', None, None)\n",
    "e= TNode('E', None, None)\n",
    "root =  TNode('+', h, e)\n",
    "\n",
    "print('  Pre-Order : ', end='')\n",
    "postorder(root)\n",
    "print()"
   ]
  },
  {
   "cell_type": "markdown",
   "metadata": {},
   "source": [
    "### 7. 복잡도 분석"
   ]
  },
  {
   "cell_type": "markdown",
   "metadata": {},
   "source": [
    "n개의 노드만큼 수행되기 때문에 O(n)이다."
   ]
  },
  {
   "cell_type": "markdown",
   "metadata": {},
   "source": []
  }
 ],
 "metadata": {
  "kernelspec": {
   "display_name": "Python 3",
   "language": "python",
   "name": "python3"
  },
  "language_info": {
   "codemirror_mode": {
    "name": "ipython",
    "version": 3
   },
   "file_extension": ".py",
   "mimetype": "text/x-python",
   "name": "python",
   "nbconvert_exporter": "python",
   "pygments_lexer": "ipython3",
   "version": "3.12.2"
  }
 },
 "nbformat": 4,
 "nbformat_minor": 2
}
