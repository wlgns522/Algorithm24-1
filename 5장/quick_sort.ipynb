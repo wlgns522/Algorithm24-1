{
 "cells": [
  {
   "cell_type": "markdown",
   "metadata": {},
   "source": [
    "# 퀵 정렬"
   ]
  },
  {
   "cell_type": "markdown",
   "metadata": {},
   "source": [
    "### 1.문제 정의"
   ]
  },
  {
   "cell_type": "markdown",
   "metadata": {},
   "source": [
    "- 문제 이름 : 퀵 정렬 알고리즘\n",
    "- 문제 설명 : 리스트를 순환구조를 이용하여 퀵 정렬 하기\n",
    "- 문제 예시 : 정렬된 리스트는 1,2,3,4,5,6,7,8,9이다"
   ]
  },
  {
   "cell_type": "markdown",
   "metadata": {},
   "source": [
    "### 2. 알고리즘 설명"
   ]
  },
  {
   "cell_type": "markdown",
   "metadata": {},
   "source": [
    "정렬 범위가 2개 이상인 경우  좌우로 분할하여 퀵 정렬 하는 알고리즘이다."
   ]
  },
  {
   "cell_type": "markdown",
   "metadata": {},
   "source": [
    "### 4. 코드 개요"
   ]
  },
  {
   "cell_type": "markdown",
   "metadata": {},
   "source": [
    "- 입력변수 : 입력 리스트\n",
    "- 출력 : 정렬 된 리스트\n",
    "- 함수 : quick_sort : 퀵 정렬을 수행하는 함수\n",
    "partition : 리스트를 피벗 기준으로 리스트를 분할하는데 사용"
   ]
  },
  {
   "cell_type": "markdown",
   "metadata": {},
   "source": [
    "### 5. 알고리즘 코드"
   ]
  },
  {
   "cell_type": "code",
   "execution_count": 1,
   "metadata": {},
   "outputs": [],
   "source": [
    "def quick_sort(A, left, right):\n",
    "    if left<right :\n",
    "        mid = partition(A, left, right)\n",
    "        quick_sort(A, left, mid-1)\n",
    "        quick_sort(A, mid+1, right)\n",
    "\n",
    "def partition(A, left, right):\n",
    "    pivot = A[right]\n",
    "    i = left -1\n",
    "    for j in range(left, right):\n",
    "        if A[j] <= pivot:\n",
    "            i += 1\n",
    "            A[i], A[j] = A[j], A[i]\n",
    "    A[i+1], A[right] = A[right], A[i+1]\n",
    "    return i+1\n"
   ]
  },
  {
   "cell_type": "markdown",
   "metadata": {},
   "source": [
    "### 6. 테스트 코드"
   ]
  },
  {
   "cell_type": "code",
   "execution_count": null,
   "metadata": {},
   "outputs": [],
   "source": [
    "data = [5, 3, 8, 4, 9, 1, 6, 2, 7]\n",
    "print(\"Original : \", data)\n",
    "quick_sort(data, 0, len(data)-1)\n",
    "print(\"QuickSort : \", data)"
   ]
  },
  {
   "cell_type": "markdown",
   "metadata": {},
   "source": [
    "### 7. 수행 결과"
   ]
  },
  {
   "cell_type": "code",
   "execution_count": 3,
   "metadata": {},
   "outputs": [
    {
     "name": "stdout",
     "output_type": "stream",
     "text": [
      "Original :  [5, 3, 8, 4, 9, 1, 6, 2, 7]\n",
      "QuickSort :  [1, 2, 3, 4, 5, 6, 7, 8, 9]\n"
     ]
    }
   ],
   "source": [
    "def quick_sort(A, left, right):\n",
    "    if left<right :\n",
    "        mid = partition(A, left, right)\n",
    "        quick_sort(A, left, mid-1)\n",
    "        quick_sort(A, mid+1, right)\n",
    "\n",
    "def partition(A, left, right):\n",
    "    pivot = A[right]\n",
    "    i = left -1\n",
    "    for j in range(left, right):\n",
    "        if A[j] <= pivot:\n",
    "            i += 1\n",
    "            A[i], A[j] = A[j], A[i]\n",
    "    A[i+1], A[right] = A[right], A[i+1]\n",
    "    return i+1\n",
    "\n",
    "data = [5, 3, 8, 4, 9, 1, 6, 2, 7]\n",
    "print(\"Original : \", data)\n",
    "quick_sort(data, 0, len(data)-1)\n",
    "print(\"QuickSort : \", data)"
   ]
  },
  {
   "cell_type": "markdown",
   "metadata": {},
   "source": [
    "### 8. 복잡도 분석"
   ]
  },
  {
   "cell_type": "markdown",
   "metadata": {},
   "source": [
    "- 최선 : 리스트 분할이 항상 가운데에서 이루어지는 상황으로 병합 정렬의 경우와 같기 때문에 마스터 정리를 사용하거나 연속 대치법을 정확하게 적용하면 점근적 복잡도는 O(n log<sub>2n)이다\n",
    "- 최악 : 최악의 경우 순환 호출 깊이가 n이다. 트리의 한 레벨에서의 분활 과정에 n에 비례하는 비교가 필요하고 트리의 높이가 n이므로 n<sup>2에 비례하는 비교 연산이 필요하기 때문에 최악은 O(n<sup>2)이다"
   ]
  }
 ],
 "metadata": {
  "kernelspec": {
   "display_name": "Python 3",
   "language": "python",
   "name": "python3"
  },
  "language_info": {
   "codemirror_mode": {
    "name": "ipython",
    "version": 3
   },
   "file_extension": ".py",
   "mimetype": "text/x-python",
   "name": "python",
   "nbconvert_exporter": "python",
   "pygments_lexer": "ipython3",
   "version": "3.12.2"
  }
 },
 "nbformat": 4,
 "nbformat_minor": 2
}
