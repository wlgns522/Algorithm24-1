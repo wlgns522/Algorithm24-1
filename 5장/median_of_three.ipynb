{
 "cells": [
  {
   "cell_type": "markdown",
   "metadata": {},
   "source": [
    "# 퀵 정렬 알고리즘"
   ]
  },
  {
   "cell_type": "markdown",
   "metadata": {},
   "source": [
    "### 1. 문제 정의"
   ]
  },
  {
   "cell_type": "markdown",
   "metadata": {},
   "source": [
    " - 문제 이름 : 리스트 퀵 정렬\n",
    " - 문제 설명 : median of three를 사용하여 퀵 정렬의 불균형 분할 완화하기\n",
    " - 문제 예시 : 리스트 [12, 3, 5, 7, 4, 19, 26, 23, 15]에서 처음 중간 끝에 있는 수 중에서 가운데 값을 피벗으로 정하기 때문에 12가 피벗이 된다.\n"
   ]
  },
  {
   "cell_type": "markdown",
   "metadata": {},
   "source": [
    "### 2. 알고리즘 설명"
   ]
  },
  {
   "cell_type": "markdown",
   "metadata": {},
   "source": [
    "피벗으로 정해진 리스트랑 나머지 리스트들을 비교 했을 때 리스트보다 작은 수는 왼쪽, 큰 수들은 오른쪽으로 옮긴다.(피벗이 아닌 리스트들은 따로 정렬하지 않음)"
   ]
  },
  {
   "cell_type": "markdown",
   "metadata": {},
   "source": [
    "### 3.손으로 푼 예제"
   ]
  },
  {
   "cell_type": "markdown",
   "metadata": {},
   "source": []
  },
  {
   "cell_type": "markdown",
   "metadata": {},
   "source": [
    "### 4. 코드 개요"
   ]
  },
  {
   "cell_type": "markdown",
   "metadata": {},
   "source": [
    " - 입력 변수 : A, right, left\n",
    " - 출력 : 최종 피벗 위치\n",
    " - 함수 : partition, median of three"
   ]
  },
  {
   "cell_type": "markdown",
   "metadata": {},
   "source": [
    "### 5. 알고리즘 코드"
   ]
  },
  {
   "cell_type": "code",
   "execution_count": 2,
   "metadata": {},
   "outputs": [],
   "source": [
    "def median_of_three(A, left, right):\n",
    "    mid =(left + right) // 2\n",
    "    if A[left] > A[mid]:\n",
    "        A[left], A[mid] = A[mid], A[left]\n",
    "        if A[left] > A[right]:\n",
    "            A[left], A[right] = A[right], A[left]\n",
    "        if A[mid] > A[right]:\n",
    "            A[mid], A[right] = A[right], A[mid]\n",
    "        return mid\n",
    "def partition(A, left, right):\n",
    "    median_index = median_of_three(A, left, right)\n",
    "    A[left], A[median_index] = A[median_index], A[left]\n",
    "    pivot = A[left]\n",
    "    low = left + 1\n",
    "    high = right\n",
    "\n",
    "    while low <= high:\n",
    "        while low <= right and A[low] <= pivot:\n",
    "            low += 1\n",
    "        while high >= left and A[high] > pivot:\n",
    "            high -= 1\n",
    "        if low < high:\n",
    "            A[low], A[high] = A[high], A[low]\n",
    "    A[left], A[high] = A[high], A[left]\n",
    "    return high"
   ]
  },
  {
   "cell_type": "markdown",
   "metadata": {},
   "source": [
    "### 6. 테스트 코드"
   ]
  },
  {
   "cell_type": "code",
   "execution_count": null,
   "metadata": {},
   "outputs": [],
   "source": [
    "array =[12, 3, 5, 7, 4, 19, 26, 23, 15]\n",
    "left = 0\n",
    "right = len(array) - 1\n",
    "pivot_index = partition(array, left, right)\n",
    "print(\"분할 후 리스트:\", array)\n",
    "print(\"피벗의 위치:\", pivot_index)"
   ]
  },
  {
   "cell_type": "markdown",
   "metadata": {},
   "source": [
    "### 7. 수행 결과"
   ]
  },
  {
   "cell_type": "code",
   "execution_count": 5,
   "metadata": {},
   "outputs": [
    {
     "name": "stdout",
     "output_type": "stream",
     "text": [
      "분할 후 리스트: [4, 3, 5, 7, 12, 19, 26, 23, 15]\n",
      "피벗의 위치: 4\n"
     ]
    }
   ],
   "source": [
    "def median_of_three(A, left, right):\n",
    "    mid =(left + right) // 2\n",
    "    if A[left] > A[mid]:\n",
    "        A[left], A[mid] = A[mid], A[left]\n",
    "    if A[left] > A[right]:\n",
    "        A[left], A[right] = A[right], A[left]\n",
    "    if A[mid] > A[right]:\n",
    "        A[mid], A[right] = A[right], A[mid]\n",
    "    return mid\n",
    "\n",
    "def partition(A, left, right):\n",
    "    median_index = median_of_three(A, left, right)\n",
    "    A[left], A[median_index] = A[median_index], A[left]\n",
    "    pivot = A[left]\n",
    "    low = left + 1\n",
    "    high = right\n",
    "\n",
    "    while low <= high:\n",
    "        while low <= right and A[low] <= pivot:\n",
    "            low += 1\n",
    "        while high >= left and A[high] > pivot:\n",
    "            high -= 1\n",
    "        if low < high:\n",
    "            A[low], A[high] = A[high], A[low]\n",
    "    A[left], A[high] = A[high], A[left]\n",
    "    return high\n",
    "array =[12, 3, 5, 7, 4, 19, 26, 23, 15]\n",
    "left = 0\n",
    "right = len(array) - 1\n",
    "pivot_index = partition(array, left, right)\n",
    "print(\"분할 후 리스트:\", array)\n",
    "print(\"피벗의 위치:\", pivot_index)\n"
   ]
  },
  {
   "cell_type": "markdown",
   "metadata": {},
   "source": [
    "### 8. 복잡도 분석"
   ]
  },
  {
   "cell_type": "markdown",
   "metadata": {},
   "source": [
    " - 최선 : 매 분할마다 리스트가 정확히 나눠지는 경우 O(n log n)\n",
    " - 평균 : 균형있게 리스트가 분활되어 있을 경우 O(n log n)\n",
    " - 최악 : 리스트에서 가장 큰 수나 작은 수가 피벗이 됐을 경우 O(n²)"
   ]
  },
  {
   "cell_type": "markdown",
   "metadata": {},
   "source": []
  }
 ],
 "metadata": {
  "kernelspec": {
   "display_name": "Python 3",
   "language": "python",
   "name": "python3"
  },
  "language_info": {
   "codemirror_mode": {
    "name": "ipython",
    "version": 3
   },
   "file_extension": ".py",
   "mimetype": "text/x-python",
   "name": "python",
   "nbconvert_exporter": "python",
   "pygments_lexer": "ipython3",
   "version": "3.12.2"
  }
 },
 "nbformat": 4,
 "nbformat_minor": 2
}
