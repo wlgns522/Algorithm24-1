{
 "cells": [
  {
   "cell_type": "markdown",
   "metadata": {},
   "source": [
    "# 신장 트리"
   ]
  },
  {
   "cell_type": "markdown",
   "metadata": {},
   "source": [
    "### 1. 문제 정의"
   ]
  },
  {
   "cell_type": "markdown",
   "metadata": {},
   "source": [
    "- 문제 이름 : 인접 행렬로 표현된 그래프에 대해 신장트리를 구하는 알고리즘 설계(깊이 우선 탐색 사용)\n",
    "- 문제 설명 : 인접 행렬로 표현된 그래프에 대해 신장트리를 구하는 알고리즘 설계(깊이 우선 탐색 사용)\n"
   ]
  },
  {
   "cell_type": "markdown",
   "metadata": {},
   "source": [
    "### 2. 알고리즘 설명"
   ]
  },
  {
   "cell_type": "markdown",
   "metadata": {},
   "source": [
    "하나의 노드를 고르고 그 노드에서 갈 수 있는 가장 깊은 곳을 가면서 노드끼리 연결을 한다.\n",
    "이때 노드가 더이상 앞으로 가지 못할 때 다시 뒤로 하나씩 돌아오면서 갈 수 있는 길을 찾고 찾을 경우 다시 이동한다. 한번 갔던 노드는 가지 않는다."
   ]
  },
  {
   "cell_type": "markdown",
   "metadata": {},
   "source": [
    "### 3. 알고리즘 개요"
   ]
  },
  {
   "cell_type": "markdown",
   "metadata": {},
   "source": [
    "- 입력 변수 : graph : 인접행렬로 만든 그래프\n",
    "- 출력 : 그래프에 대한 신장 트리"
   ]
  },
  {
   "cell_type": "markdown",
   "metadata": {},
   "source": [
    "### 4. 알고리즘 코드"
   ]
  },
  {
   "cell_type": "code",
   "execution_count": 1,
   "metadata": {},
   "outputs": [],
   "source": [
    "def dfs(graph, start, visited, spanning_tree):\n",
    "    visited[start] = True \n",
    "\n",
    "    for neighbor in range(len(graph[start])):\n",
    "        if graph[start][neighbor] != 0 and not visited[neighbor]:\n",
    "            spanning_tree[start][neighbor] = 1  \n",
    "            spanning_tree[neighbor][start] = 1  \n",
    "            dfs(graph, neighbor, visited, spanning_tree)\n",
    "\n",
    "def prim(graph):\n",
    "    num_vertices = len(graph)\n",
    "    visited = [False] * num_vertices \n",
    "    spanning_tree = [[0] * num_vertices for _ in range(num_vertices)] \n",
    "\n",
    "    start_vertex = 0\n",
    "    dfs(graph, start_vertex, visited, spanning_tree)\n",
    "\n",
    "    return spanning_tree\n"
   ]
  },
  {
   "cell_type": "markdown",
   "metadata": {},
   "source": [
    "### 5. 테스트 코드"
   ]
  },
  {
   "cell_type": "code",
   "execution_count": null,
   "metadata": {},
   "outputs": [],
   "source": [
    "graph = [\n",
    "    [0, 2, 0, 6, 0],\n",
    "    [2, 0, 3, 8, 5],\n",
    "    [0, 3, 0, 0, 7],\n",
    "    [6, 8, 0, 0, 9],\n",
    "    [0, 5, 7, 9, 0]\n",
    "]\n",
    "spanning_tree = prim(graph)\n",
    "\n",
    "print(\"신장 트리:\")\n",
    "for row in spanning_tree:\n",
    "    print(row)"
   ]
  },
  {
   "cell_type": "markdown",
   "metadata": {},
   "source": [
    "### 6. 수행 결과"
   ]
  },
  {
   "cell_type": "code",
   "execution_count": 3,
   "metadata": {},
   "outputs": [
    {
     "name": "stdout",
     "output_type": "stream",
     "text": [
      "신장 트리:\n",
      "[0, 1, 0, 0, 0]\n",
      "[1, 0, 1, 0, 0]\n",
      "[0, 1, 0, 0, 1]\n",
      "[0, 0, 0, 0, 1]\n",
      "[0, 0, 1, 1, 0]\n"
     ]
    }
   ],
   "source": [
    "def dfs(graph, start, visited, spanning_tree):\n",
    "    visited[start] = True \n",
    "\n",
    "    for neighbor in range(len(graph[start])):\n",
    "        if graph[start][neighbor] != 0 and not visited[neighbor]:\n",
    "            spanning_tree[start][neighbor] = 1  \n",
    "            spanning_tree[neighbor][start] = 1  \n",
    "            dfs(graph, neighbor, visited, spanning_tree)\n",
    "\n",
    "def prim(graph):\n",
    "    num_vertices = len(graph)\n",
    "    visited = [False] * num_vertices \n",
    "    spanning_tree = [[0] * num_vertices for _ in range(num_vertices)] \n",
    "\n",
    "    start_vertex = 0\n",
    "    dfs(graph, start_vertex, visited, spanning_tree)\n",
    "\n",
    "    return spanning_tree\n",
    "\n",
    "graph = [\n",
    "    [0, 2, 0, 6, 0],\n",
    "    [2, 0, 3, 8, 5],\n",
    "    [0, 3, 0, 0, 7],\n",
    "    [6, 8, 0, 0, 9],\n",
    "    [0, 5, 7, 9, 0]\n",
    "]\n",
    "spanning_tree = prim(graph)\n",
    "\n",
    "print(\"신장 트리:\")\n",
    "for row in spanning_tree:\n",
    "    print(row)"
   ]
  },
  {
   "cell_type": "markdown",
   "metadata": {},
   "source": [
    "### 7.복잡도 분석"
   ]
  },
  {
   "cell_type": "markdown",
   "metadata": {},
   "source": [
    "노드의 수를n, 간선의 수를 e라고 했을 때 알고리즘의 복잡도는 O(n+e)가 된다"
   ]
  }
 ],
 "metadata": {
  "kernelspec": {
   "display_name": "py3",
   "language": "python",
   "name": "python3"
  },
  "language_info": {
   "codemirror_mode": {
    "name": "ipython",
    "version": 3
   },
   "file_extension": ".py",
   "mimetype": "text/x-python",
   "name": "python",
   "nbconvert_exporter": "python",
   "pygments_lexer": "ipython3",
   "version": "3.11.8"
  }
 },
 "nbformat": 4,
 "nbformat_minor": 2
}
