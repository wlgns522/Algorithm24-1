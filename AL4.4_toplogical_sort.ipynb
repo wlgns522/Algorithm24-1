{
 "cells": [
  {
   "cell_type": "markdown",
   "metadata": {},
   "source": [
    "# 축소 정복 기법을 사용한 위상 정렬"
   ]
  },
  {
   "cell_type": "markdown",
   "metadata": {},
   "source": [
    "### 1. 문제 정의"
   ]
  },
  {
   "cell_type": "markdown",
   "metadata": {},
   "source": [
    "- 문제 이름 : 위상 정렬(축소 정복 기법)   \n",
    "- 문제 설명 : 그래프를 보고 위상 정렬을 하라.   \n",
    "- 문제 예시 : 리스트들의 위상 정렬은 B E A C D F 이다."
   ]
  },
  {
   "cell_type": "markdown",
   "metadata": {},
   "source": [
    "### 2. 알고르즘 설명"
   ]
  },
  {
   "cell_type": "markdown",
   "metadata": {},
   "source": [
    "- 모든 정점의 진입차수를 구하고 진입차수가 0인 정점들을 리스트에 저장한다. 그 후 리스트가 공백이 아닐 때 까지 진입차수가 0인 정점들을 가져오고 연결된 정점들의 진입차수를 감소시킨다. "
   ]
  },
  {
   "cell_type": "markdown",
   "metadata": {},
   "source": [
    "### 3. 코드개요"
   ]
  },
  {
   "cell_type": "markdown",
   "metadata": {},
   "source": [
    "- 입력변수 : 선후수 관계가 있는 방향 그래프(mygraph)\n",
    "- 출력 : 그래프를 보고 만든 위상 정렬\n",
    "- 함수 : topological_sort(graph) : 방향 그래프에서 위상 정렬을 수행 하는 함수   \n",
    "inDeg : 정점과 진입차수를 저장하는 딕셔너리   \n",
    "vlist : 진입차수가 0이 된 정점들을 저장하는 리스트   "
   ]
  },
  {
   "cell_type": "markdown",
   "metadata": {},
   "source": [
    "### 4. 알고리즘 코드"
   ]
  },
  {
   "cell_type": "code",
   "execution_count": 9,
   "metadata": {},
   "outputs": [],
   "source": [
    "def topological_sort(graph):\n",
    "    inDeg ={}\n",
    "    for v in graph:\n",
    "        inDeg[v] =0     # 모든 정점을 0으로 초기화\n",
    "    for v in graph:\n",
    "        for u in graph[v]:\n",
    "            inDeg[u] += 1   # v에 인접한 모든 정점 u의 진입차수를 1증가시킴\n",
    "    \n",
    "    vlist = []      # 진입차수가 0인 정점 리스트를 만듦\n",
    "    for v in graph :\n",
    "        if inDeg[v]==0:     # 진입차수가 0이면 vlist에 추가\n",
    "            vlist.append(v)\n",
    "\n",
    "    while vlist:\n",
    "        v=vlist.pop()\n",
    "        print(v, end='')\n",
    "\n",
    "        for u in graph[v]: \n",
    "            inDeg[u] -=1        # v와 연결 되어 있는 u의 진입차수 1 감소\n",
    "            if inDeg[u]==0:     # u의 진입차수가 0이 되면 vlist에 추가\n",
    "                vlist.append(u)"
   ]
  },
  {
   "cell_type": "markdown",
   "metadata": {},
   "source": [
    "### 5. 테스트 코드"
   ]
  },
  {
   "cell_type": "code",
   "execution_count": null,
   "metadata": {},
   "outputs": [],
   "source": [
    "mygraph = {\"A\" : {\"C\",\"D\"}, \"B\" : {\"D\",\"E\"},\"C\" : {\"D\",\"F\"},\"D\" : {\"F\"},\"E\" : {\"F\"}, \"F\" : {}}\n",
    "print('topological_sort:')\n",
    "topological_sort(mygraph)\n",
    "print()"
   ]
  },
  {
   "cell_type": "markdown",
   "metadata": {},
   "source": [
    "### 6. 수행 결과"
   ]
  },
  {
   "cell_type": "code",
   "execution_count": 8,
   "metadata": {},
   "outputs": [
    {
     "name": "stdout",
     "output_type": "stream",
     "text": [
      "topological_sort: \n",
      "BEACDF\n"
     ]
    }
   ],
   "source": [
    "def topological_sort(graph):\n",
    "    inDeg ={}\n",
    "    for v in graph:\n",
    "        inDeg[v] =0\n",
    "    for v in graph:\n",
    "        for u in graph[v]:\n",
    "            inDeg[u] += 1\n",
    "    \n",
    "    vlist = []\n",
    "    for v in graph :\n",
    "        if inDeg[v]==0:\n",
    "            vlist.append(v)\n",
    "\n",
    "    while vlist:\n",
    "        v=vlist.pop()\n",
    "        print(v, end='')\n",
    "\n",
    "        for u in graph[v]:\n",
    "            inDeg[u] -=1\n",
    "            if inDeg[u]==0:\n",
    "                vlist.append(u)\n",
    "\n",
    "mygraph = {\"A\" : {\"C\",\"D\"}, \"B\" : {\"D\",\"E\"},\"C\" : {\"D\",\"F\"},\"D\" : {\"F\"},\"E\" : {\"F\"}, \"F\" : {}}\n",
    "print('topological_sort: ')\n",
    "topological_sort(mygraph)\n",
    "print()"
   ]
  },
  {
   "cell_type": "markdown",
   "metadata": {},
   "source": [
    "### 7. 복잡도 분석"
   ]
  },
  {
   "cell_type": "markdown",
   "metadata": {},
   "source": [
    "- 입력 그래프의 정점의 수를 n, 간선을 e라고 했을 때, 해당 알고리즘은 두 가지의 초기화 단계와 주 코드를 가진 세 단계 알고리즘이다.   \n",
    "- 1단계(2~7행)모든 정점의 진입차수를 계산하는 단계다. 3~4행은 n번 반복하므로 O(n)이다. 5~7행의 이중 루프는 모든 간선에 대해 처리하는데, 결국 7행은 간선의 개수 만큼 반복된다. 따라서 복잡도는 O(e)이다. 그러므로 1단계의 복잡도는 O(n+e)이다.   \n",
    "- 2단계(9~12행)은 진입차수가 0인 정점 리스트를 만드는 단계이다. 10행의 반복분은 정점의 수 만큼 반복 되기에 O(n)이다.      \n",
    "- 주 알고리즘 (14~21행)은 이중 루프로 구성되어 있지만 최악의 경우에도 전체 간선 수 만큼 수행되기 때문에 O(e)이다.     \n",
    "따라서 전체 복잡도는 O(n+e)이다."
   ]
  }
 ],
 "metadata": {
  "kernelspec": {
   "display_name": "Python 3",
   "language": "python",
   "name": "python3"
  },
  "language_info": {
   "codemirror_mode": {
    "name": "ipython",
    "version": 3
   },
   "file_extension": ".py",
   "mimetype": "text/x-python",
   "name": "python",
   "nbconvert_exporter": "python",
   "pygments_lexer": "ipython3",
   "version": "3.12.2"
  }
 },
 "nbformat": 4,
 "nbformat_minor": 2
}
