{
 "cells": [
  {
   "cell_type": "markdown",
   "metadata": {},
   "source": [
    "# 정렬 되어 있는 리스트의 순차탐색"
   ]
  },
  {
   "cell_type": "markdown",
   "metadata": {},
   "source": [
    "### 1. 문제정의"
   ]
  },
  {
   "cell_type": "markdown",
   "metadata": {},
   "source": [
    "- 문제 이름 : 정렬 된 리스트의 순차탐색\n",
    "- 문제 설명 : 리스트에 있는 숫자의 위치 찾기\n",
    "- 문제 예시 : 리스트에서 34의 위치는 6이다."
   ]
  },
  {
   "cell_type": "markdown",
   "metadata": {},
   "source": [
    "### 2. 알고리즘 설명"
   ]
  },
  {
   "cell_type": "markdown",
   "metadata": {},
   "source": [
    "현재 값을 j로 하고 찾으려는 값을 key로 했을 때 j랑 key가 같으면 j를 반환하고 종료한다. 만약 j가 key보다 클 경우 찾으려는 값이 없다고 판단하여 None를 반환한다"
   ]
  },
  {
   "cell_type": "markdown",
   "metadata": {},
   "source": [
    "### 3. 알고리즘 개요"
   ]
  },
  {
   "cell_type": "markdown",
   "metadata": {},
   "source": [
    "    - 입력변수 : 정렬된 리스트(list), 찾으려는 값(key)\n",
    "    - 출력 : 찾은 경우 찾은 값의 위치, 찾지 못한 경우 None"
   ]
  },
  {
   "cell_type": "markdown",
   "metadata": {},
   "source": [
    "### 4. 알고리즘 코드"
   ]
  },
  {
   "cell_type": "code",
   "execution_count": null,
   "metadata": {},
   "outputs": [],
   "source": [
    "def sequential_search(list, key):\n",
    "    for j in list:\n",
    "        if j == key:\n",
    "            return key \n",
    "        elif j > key:\n",
    "            return None \n",
    "\n",
    "    return None  "
   ]
  },
  {
   "cell_type": "code",
   "execution_count": null,
   "metadata": {},
   "outputs": [],
   "source": [
    "def sequential_search(list, key):\n",
    "    for j in list:\n",
    "        if j == key:\n",
    "            return key \n",
    "        elif j > key:\n",
    "            return -1\n",
    "\n",
    "    return -1  \n",
    "\n",
    "\n",
    "list = [1, 3, 5, 7, 9, 11, 13, 15, 17, 19]\n",
    "i = 11\n",
    "\n",
    "result = sequential_search(list, i)\n",
    "\n",
    "if result is not None:\n",
    "    print(f\"{i}를 찾았습니다!\")\n",
    "else:\n",
    "    print(f\"{i}를 찾지 못했습니다.\")\n"
   ]
  },
  {
   "cell_type": "markdown",
   "metadata": {},
   "source": [
    "### 6. 수행 결과"
   ]
  },
  {
   "cell_type": "markdown",
   "metadata": {},
   "source": []
  },
  {
   "cell_type": "markdown",
   "metadata": {},
   "source": [
    "### 7. 복잡도 분석"
   ]
  },
  {
   "cell_type": "markdown",
   "metadata": {},
   "source": [
    "- 최선 : 찾으려는 값이 처음 자리에 위치한 경우 한 번만 확인하면 되니까 O(1)이다\n",
    "- 최악 : 찾으려는 값이 마지막 자리까지 가도 없을 경우이기 때문에 0(n)이다"
   ]
  },
  {
   "cell_type": "markdown",
   "metadata": {},
   "source": []
  }
 ],
 "metadata": {
  "kernelspec": {
   "display_name": "py3",
   "language": "python",
   "name": "python3"
  },
  "language_info": {
   "codemirror_mode": {
    "name": "ipython",
    "version": 3
   },
   "file_extension": ".py",
   "mimetype": "text/x-python",
   "name": "python",
   "nbconvert_exporter": "python",
   "pygments_lexer": "ipython3",
   "version": "3.11.8"
  }
 },
 "nbformat": 4,
 "nbformat_minor": 2
}
