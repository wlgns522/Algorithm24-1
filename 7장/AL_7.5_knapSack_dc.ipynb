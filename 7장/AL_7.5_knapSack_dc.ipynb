{
 "cells": [
  {
   "cell_type": "markdown",
   "metadata": {},
   "source": [
    "# 배낭 채우기 알고리즘"
   ]
  },
  {
   "cell_type": "markdown",
   "metadata": {},
   "source": [
    "### 1. 문제 정의"
   ]
  },
  {
   "cell_type": "markdown",
   "metadata": {},
   "source": [
    " - 문제 이름 : 배낭 채우기 알고리즘(분할 정복 기법)\n",
    " - 문제 설명 : 분할 정복 기법을 사용하여 물건들의 무게와 가치를 비교하여 배낭에 최대한 많이 채운다"
   ]
  },
  {
   "cell_type": "markdown",
   "metadata": {},
   "source": [
    "### 2. 알고리즘 설명"
   ]
  },
  {
   "cell_type": "markdown",
   "metadata": {},
   "source": [
    "배낭의 크기와 물건들의 무게,가치,물건의 수를 저장하고 가치와 무게를 계산해서 최대한 많은 가치의 물건을 넣고 가치를 출력한다"
   ]
  },
  {
   "cell_type": "markdown",
   "metadata": {},
   "source": [
    "### 3. 코드개요"
   ]
  },
  {
   "cell_type": "markdown",
   "metadata": {},
   "source": [
    " - 입력변수 : 물건의 가치(val), 물건의 무게(wt), 배낭의 용량(W), 물건의 갯수(n)\n",
    " - 출력 : 가치(val)\n",
    " - 함수 : knapSack_dc(배낭 채우기 알고리즘의 분할 정복 기법)"
   ]
  },
  {
   "cell_type": "markdown",
   "metadata": {},
   "source": [
    "### 4. 알고리즘 코드"
   ]
  },
  {
   "cell_type": "code",
   "execution_count": null,
   "metadata": {},
   "outputs": [],
   "source": [
    "def knapSack_dc(W, wt, val, n):\n",
    "    in n == 0 or W == 0:\n",
    "        return 0\n",
    "    \n",
    "    if (st[n-1]>W):\n",
    "        return knapSack_bf(W, wt, val, n-1)\n",
    "    else:\n",
    "        valWithout = knapSack_bf(W, wt, val, n-1)\n",
    "        valWith = val[n-1] + knapSack_bf(W-wt[n-1], wt, val, n-1)\n",
    "        return max(valWith, valWithout)"
   ]
  },
  {
   "cell_type": "markdown",
   "metadata": {},
   "source": [
    "### 5. 테스트 코드"
   ]
  },
  {
   "cell_type": "code",
   "execution_count": null,
   "metadata": {},
   "outputs": [],
   "source": [
    "val = [60, 100, 190, 120, 200, 150]\n",
    "wt = [2, 5, 8, 4, 7, 6]\n",
    "W = 18\n",
    "n = len(val)\n",
    "print(\"분할정복:\"), knapSack_dc(W,wt,val,n)"
   ]
  },
  {
   "cell_type": "markdown",
   "metadata": {},
   "source": [
    "### 6. 수행 결과"
   ]
  },
  {
   "cell_type": "code",
   "execution_count": 14,
   "metadata": {},
   "outputs": [
    {
     "name": "stdout",
     "output_type": "stream",
     "text": [
      "배낭의 가치: 480 \n"
     ]
    }
   ],
   "source": [
    "def knapSack_dc(W, wt, val, n):\n",
    "    if n == 0 or W == 0:\n",
    "        return 0\n",
    "    \n",
    "    if (wt[n-1]>W):\n",
    "        return knapSack_dc(W, wt, val, n-1)\n",
    "    else:\n",
    "        valWithout = knapSack_dc(W, wt, val, n-1)\n",
    "        valWith = val[n-1] + knapSack_dc(W-wt[n-1], wt, val, n-1)\n",
    "        return max(valWith, valWithout)\n",
    "    \n",
    "val = [60, 100, 190, 120, 200, 150]\n",
    "wt = [2, 5, 8, 4, 7, 6]\n",
    "W = 18\n",
    "n = len(val)\n",
    "result = knapSack_dc(W, wt, val, n)\n",
    "print(f\"배낭의 가치: {result} \")"
   ]
  },
  {
   "cell_type": "markdown",
   "metadata": {},
   "source": [
    "### 7. 복잡도 분석"
   ]
  },
  {
   "cell_type": "markdown",
   "metadata": {},
   "source": [
    "물건들을 넣을 수 있는 모든 경우의 수를 확인하기 때문에 O(2^n)이다"
   ]
  }
 ],
 "metadata": {
  "kernelspec": {
   "display_name": "Python 3",
   "language": "python",
   "name": "python3"
  },
  "language_info": {
   "codemirror_mode": {
    "name": "ipython",
    "version": 3
   },
   "file_extension": ".py",
   "mimetype": "text/x-python",
   "name": "python",
   "nbconvert_exporter": "python",
   "pygments_lexer": "ipython3",
   "version": "3.12.2"
  }
 },
 "nbformat": 4,
 "nbformat_minor": 2
}
